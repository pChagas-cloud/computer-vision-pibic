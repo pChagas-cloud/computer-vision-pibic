{
 "cells": [
  {
   "cell_type": "code",
   "execution_count": 3,
   "metadata": {},
   "outputs": [],
   "source": [
    "import cv2 \n",
    "import os\n",
    "import time\n",
    "import uuid"
   ]
  },
  {
   "cell_type": "code",
   "execution_count": 4,
   "metadata": {},
   "outputs": [],
   "source": [
    "img_path = \"Tensorflow/workspace/images/collectedimages\"\n"
   ]
  },
  {
   "cell_type": "code",
   "execution_count": 5,
   "metadata": {},
   "outputs": [],
   "source": [
    "labels = ['hello', 'thanks', 'yes', 'no', 'iloveyou']\n",
    "lGaby = ['g', 'a', 'b', 'y']\n",
    "numberOfImages = 15"
   ]
  },
  {
   "cell_type": "code",
   "execution_count": 7,
   "metadata": {},
   "outputs": [
    {
     "name": "stdout",
     "output_type": "stream",
     "text": [
      "mkdir: cannot create directory ‘Tensorflow/workspace/images/collectedimages//iloveyou’: File exists\n",
      "Tirando fotos para iloveyou\n"
     ]
    }
   ],
   "source": [
    "def collect_images(labels):\n",
    "    for label in labels:\n",
    "        !mkdir {'Tensorflow/workspace/images/collectedimages//'+label}\n",
    "        cap = cv2.VideoCapture(0) #ID da câmera, mudar se necessário\n",
    "        print(f'Tirando fotos para {label}')\n",
    "        time.sleep(3)\n",
    "        for i in range(numberOfImages):\n",
    "            ret, frame = cap.read()\n",
    "            imgname = os.path.join(img_path, label, label+'.'+f'{str(uuid.uuid1())}.jpg')\n",
    "            cv2.imwrite(imgname, frame)\n",
    "            cv2.imshow('frame', frame)\n",
    "            time.sleep(2)\n",
    "            \n",
    "            if cv2.waitKey(1) and 0xFF == ord('q'):\n",
    "                break\n",
    "            \n",
    "        cap.release()\n",
    "        \n",
    "collect_images(labels)"
   ]
  },
  {
   "cell_type": "code",
   "execution_count": 4,
   "metadata": {},
   "outputs": [],
   "source": []
  },
  {
   "cell_type": "code",
   "execution_count": null,
   "metadata": {},
   "outputs": [],
   "source": []
  }
 ],
 "metadata": {
  "kernelspec": {
   "display_name": "Python 3",
   "language": "python",
   "name": "python3"
  },
  "language_info": {
   "codemirror_mode": {
    "name": "ipython",
    "version": 3
   },
   "file_extension": ".py",
   "mimetype": "text/x-python",
   "name": "python",
   "nbconvert_exporter": "python",
   "pygments_lexer": "ipython3",
   "version": "3.8.10"
  }
 },
 "nbformat": 4,
 "nbformat_minor": 4
}
